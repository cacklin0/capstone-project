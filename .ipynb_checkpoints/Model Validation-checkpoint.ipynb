{
 "cells": [
  {
   "cell_type": "markdown",
   "metadata": {},
   "source": [
    "# Validation\n",
    "- Load a separately generated validation dataset-\n",
    "- Introduce PO Box errors\n",
    "- Prepare dataset \n",
    "- Run the final adaboost model and evaluate performance\n"
   ]
  },
  {
   "cell_type": "code",
   "execution_count": 62,
   "metadata": {
    "collapsed": true
   },
   "outputs": [],
   "source": [
    "import pandas as pd\n",
    "import numpy as np\n",
    "import jellyfish\n",
    "import matplotlib.pyplot as plt\n",
    "%matplotlib inline\n",
    "from time import time\n",
    "import pickle\n",
    "import seaborn as sns\n",
    "from sklearn.metrics import f1_score, confusion_matrix"
   ]
  },
  {
   "cell_type": "code",
   "execution_count": 63,
   "metadata": {
    "collapsed": true
   },
   "outputs": [],
   "source": [
    "# A function to create a formatted confusion matrix for each model\n",
    "def pretty_confusion(y_test, preds):\n",
    "    cm = confusion_matrix(y_test, preds)\n",
    "    ax= plt.subplot()\n",
    "    sns.heatmap(cm, annot=True, ax = ax, fmt=',', cbar=False); \n",
    "\n",
    "    # labels, title and ticks\n",
    "    ax.set_xlabel('Predicted labels');ax.set_ylabel('True labels'); \n",
    "    ax.set_title('Confusion Matrix\\nF1 Score: ' + str(f1_score(y_test, preds))); \n",
    "    ax.xaxis.set_ticklabels(['non-match', 'match']); ax.yaxis.set_ticklabels(['match', 'non-match'])"
   ]
  },
  {
   "cell_type": "code",
   "execution_count": 64,
   "metadata": {
    "collapsed": false
   },
   "outputs": [
    {
     "data": {
      "text/html": [
       "<div>\n",
       "<table border=\"1\" class=\"dataframe\">\n",
       "  <thead>\n",
       "    <tr style=\"text-align: right;\">\n",
       "      <th></th>\n",
       "      <th>id</th>\n",
       "      <th>nationality</th>\n",
       "      <th>gender</th>\n",
       "      <th>age</th>\n",
       "      <th>dob</th>\n",
       "      <th>title</th>\n",
       "      <th>first_name</th>\n",
       "      <th>last_name</th>\n",
       "      <th>state</th>\n",
       "      <th>city</th>\n",
       "      <th>zip</th>\n",
       "      <th>street_number</th>\n",
       "      <th>address_1</th>\n",
       "      <th>address_2</th>\n",
       "      <th>phone</th>\n",
       "      <th>SSN</th>\n",
       "      <th>blk</th>\n",
       "      <th>family</th>\n",
       "    </tr>\n",
       "  </thead>\n",
       "  <tbody>\n",
       "    <tr>\n",
       "      <th>0</th>\n",
       "      <td>rec-4991-dup-1</td>\n",
       "      <td>tha</td>\n",
       "      <td>f</td>\n",
       "      <td>20</td>\n",
       "      <td>19980201</td>\n",
       "      <td></td>\n",
       "      <td>joshja</td>\n",
       "      <td>tantasatityanon</td>\n",
       "      <td>ss</td>\n",
       "      <td>rouse hill</td>\n",
       "      <td>4227</td>\n",
       "      <td>1</td>\n",
       "      <td>galleghancircuit</td>\n",
       "      <td></td>\n",
       "      <td>07 87400390</td>\n",
       "      <td>7459676</td>\n",
       "      <td>3</td>\n",
       "      <td>NoRole</td>\n",
       "    </tr>\n",
       "    <tr>\n",
       "      <th>1</th>\n",
       "      <td>rec-5630-org</td>\n",
       "      <td>ara</td>\n",
       "      <td>m</td>\n",
       "      <td>22</td>\n",
       "      <td>19961027</td>\n",
       "      <td>dr</td>\n",
       "      <td>dale</td>\n",
       "      <td>alesha</td>\n",
       "      <td>vic</td>\n",
       "      <td>wallan</td>\n",
       "      <td>2120</td>\n",
       "      <td>110</td>\n",
       "      <td>henty street</td>\n",
       "      <td></td>\n",
       "      <td>618 09478814</td>\n",
       "      <td>1028327</td>\n",
       "      <td>0</td>\n",
       "      <td>NoRole</td>\n",
       "    </tr>\n",
       "    <tr>\n",
       "      <th>2</th>\n",
       "      <td>rec-9215-org</td>\n",
       "      <td>eng</td>\n",
       "      <td>f</td>\n",
       "      <td>38</td>\n",
       "      <td>19800417</td>\n",
       "      <td></td>\n",
       "      <td>william</td>\n",
       "      <td>walmsley</td>\n",
       "      <td>nsw</td>\n",
       "      <td>bingara</td>\n",
       "      <td>2198</td>\n",
       "      <td>257</td>\n",
       "      <td>bacchus circuit</td>\n",
       "      <td>diamond star</td>\n",
       "      <td>02 21066595</td>\n",
       "      <td>4973766</td>\n",
       "      <td>6</td>\n",
       "      <td>NoRole</td>\n",
       "    </tr>\n",
       "    <tr>\n",
       "      <th>3</th>\n",
       "      <td>rec-4534-org</td>\n",
       "      <td>ina</td>\n",
       "      <td>f</td>\n",
       "      <td>33</td>\n",
       "      <td>19850401</td>\n",
       "      <td></td>\n",
       "      <td>harvey</td>\n",
       "      <td>gunawan</td>\n",
       "      <td>qld</td>\n",
       "      <td>mount byron</td>\n",
       "      <td>2287</td>\n",
       "      <td>51</td>\n",
       "      <td>coles place</td>\n",
       "      <td>arcadia</td>\n",
       "      <td>08 27763692</td>\n",
       "      <td>5433846</td>\n",
       "      <td>1</td>\n",
       "      <td>NoRole</td>\n",
       "    </tr>\n",
       "    <tr>\n",
       "      <th>4</th>\n",
       "      <td>rec-4605-org</td>\n",
       "      <td>eng</td>\n",
       "      <td>f</td>\n",
       "      <td></td>\n",
       "      <td>19360607</td>\n",
       "      <td></td>\n",
       "      <td>aimee</td>\n",
       "      <td>sackville</td>\n",
       "      <td>nsw</td>\n",
       "      <td>auburn</td>\n",
       "      <td>3131</td>\n",
       "      <td>150</td>\n",
       "      <td>carnegie crescent</td>\n",
       "      <td></td>\n",
       "      <td>2 87352062</td>\n",
       "      <td>2761868</td>\n",
       "      <td>7</td>\n",
       "      <td>NoRole</td>\n",
       "    </tr>\n",
       "  </tbody>\n",
       "</table>\n",
       "</div>"
      ],
      "text/plain": [
       "               id nationality gender  age        dob title first_name  \\\n",
       "0  rec-4991-dup-1         tha      f   20   19980201           joshja   \n",
       "1    rec-5630-org         ara      m   22   19961027    dr       dale   \n",
       "2    rec-9215-org         eng      f   38   19800417          william   \n",
       "3    rec-4534-org         ina      f   33   19850401           harvey   \n",
       "4    rec-4605-org         eng      f        19360607            aimee   \n",
       "\n",
       "          last_name state          city    zip street_number  \\\n",
       "0   tantasatityanon    ss    rouse hill   4227             1   \n",
       "1            alesha   vic        wallan   2120           110   \n",
       "2          walmsley   nsw       bingara   2198           257   \n",
       "3           gunawan   qld   mount byron   2287            51   \n",
       "4         sackville   nsw        auburn   3131           150   \n",
       "\n",
       "            address_1      address_2          phone       SSN  blk   family  \n",
       "0    galleghancircuit                   07 87400390   7459676    3   NoRole  \n",
       "1        henty street                  618 09478814   1028327    0   NoRole  \n",
       "2     bacchus circuit   diamond star    02 21066595   4973766    6   NoRole  \n",
       "3         coles place        arcadia    08 27763692   5433846    1   NoRole  \n",
       "4   carnegie crescent                    2 87352062   2761868    7   NoRole  "
      ]
     },
     "execution_count": 64,
     "metadata": {},
     "output_type": "execute_result"
    }
   ],
   "source": [
    "col = ['id', 'nationality', 'gender', 'age', 'dob', 'title',\n",
    "       'first_name', 'last_name', 'state', 'city', 'zip',\n",
    "       'street_number', 'address_1', 'address_2', 'phone', 'SSN', 'blk', 'family']\n",
    "df = pd.read_csv('validationData.csv', encoding = 'latin1', header=0 , names = col)\n",
    "df.head()"
   ]
  },
  {
   "cell_type": "code",
   "execution_count": 65,
   "metadata": {
    "collapsed": false,
    "scrolled": true
   },
   "outputs": [
    {
     "name": "stderr",
     "output_type": "stream",
     "text": [
      "/home/aind2/anaconda3/lib/python3.6/site-packages/pandas/core/indexing.py:141: SettingWithCopyWarning: \n",
      "A value is trying to be set on a copy of a slice from a DataFrame\n",
      "\n",
      "See the caveats in the documentation: http://pandas.pydata.org/pandas-docs/stable/indexing.html#indexing-view-versus-copy\n",
      "  self._setitem_with_indexer(indexer, value)\n"
     ]
    }
   ],
   "source": [
    "for i in df.sample(frac=.02).index:\n",
    "    df['address_1'].iloc[i] = 'P.O. Box ' + str(np.random.randint(1, 2000))"
   ]
  },
  {
   "cell_type": "markdown",
   "metadata": {},
   "source": [
    "\n",
    "After loading the dataset, several additional features are calculated including phonetic representations of first name, last name, and city.  These were created using the metaphone algorithm available in the jellyfish package\n",
    "\n",
    "Data is into 2 dataframes by originals and duplicates."
   ]
  },
  {
   "cell_type": "code",
   "execution_count": 66,
   "metadata": {
    "collapsed": false
   },
   "outputs": [
    {
     "name": "stdout",
     "output_type": "stream",
     "text": [
      "Original Recordset: (10000, 27)\n",
      "Recordset of matches: (5000, 27)\n"
     ]
    }
   ],
   "source": [
    "df[['prefix','trueRecordID', 'OrgDup', 'seqNum']] = df.id.str.split('-', expand=True)\n",
    "df.drop('prefix', axis=1, inplace=True)\n",
    "df.fillna ('', inplace=True)\n",
    "\n",
    "df['stringConcat'] = df.title+df.first_name+df.last_name+df.city+df.state+df.zip+df.address_1+df.address_2+df.phone\n",
    "\n",
    "df['last_name_met'] = df['last_name'].str.replace(' ', '').apply(lambda x: jellyfish.metaphone(x))\n",
    "df['first_name_met'] = df['first_name'].str.replace(' ', '').apply(lambda x: jellyfish.metaphone(x))\n",
    "df['city_met'] = df['city'].str.replace(' ', '').apply(lambda x: jellyfish.metaphone(x))\n",
    "df['phone'] = df['phone'].str.replace(' ', '')\n",
    "df['predicateLastName'] = df['last_name'].str[:2]\n",
    "df['predicateFirstName'] = df['first_name'].str[:2]\n",
    "\n",
    "\n",
    "dfDup = df[df.OrgDup == 'dup']\n",
    "dfOrg = df[df.OrgDup == 'org']\n",
    "dfDup.columns = [str(col) + '_match' for col in dfDup.columns]\n",
    "dfOrg.columns = [str(col) + '_org' for col in dfOrg.columns]\n",
    "print('Original Recordset:', dfOrg.shape)\n",
    "print('Recordset of matches:', dfDup.shape)"
   ]
  },
  {
   "cell_type": "code",
   "execution_count": 67,
   "metadata": {
    "collapsed": true
   },
   "outputs": [],
   "source": [
    "from sklearn.feature_extraction.text import TfidfVectorizer\n",
    "import re\n",
    "import numpy as np\n",
    "from scipy.sparse import csr_matrix\n",
    "import sparse_dot_topn.sparse_dot_topn as ct"
   ]
  },
  {
   "cell_type": "code",
   "execution_count": 68,
   "metadata": {
    "collapsed": true
   },
   "outputs": [],
   "source": [
    "def ngrams(string, n=4):\n",
    "    string = re.sub(r'[,-./]|\\s',r'', string)\n",
    "    ngrams = zip(*[string[i:] for i in range(n)])\n",
    "    return [''.join(ngram) for ngram in ngrams]\n",
    "\n",
    "def awesome_cossim_top(A, B, ntop, lower_bound=0):\n",
    "    # force A and B as a CSR matrix.\n",
    "    # If they have already been CSR, there is no overhead\n",
    "    A = A.tocsr()\n",
    "    B = B.tocsr()\n",
    "    M, _ = A.shape\n",
    "    _, N = B.shape\n",
    " \n",
    "    idx_dtype = np.int32\n",
    " \n",
    "    nnz_max = M*ntop\n",
    " \n",
    "    indptr = np.zeros(M+1, dtype=idx_dtype)\n",
    "    indices = np.zeros(nnz_max, dtype=idx_dtype)\n",
    "    data = np.zeros(nnz_max, dtype=A.dtype)\n",
    "\n",
    "    ct.sparse_dot_topn(\n",
    "        M, N, np.asarray(A.indptr, dtype=idx_dtype),\n",
    "        np.asarray(A.indices, dtype=idx_dtype),\n",
    "        A.data,\n",
    "        np.asarray(B.indptr, dtype=idx_dtype),\n",
    "        np.asarray(B.indices, dtype=idx_dtype),\n",
    "        B.data,\n",
    "        ntop,\n",
    "        lower_bound,\n",
    "        indptr, indices, data)\n",
    "\n",
    "    return csr_matrix((data,indices,indptr),shape=(M,N))\n"
   ]
  },
  {
   "cell_type": "code",
   "execution_count": 69,
   "metadata": {
    "collapsed": false
   },
   "outputs": [
    {
     "name": "stderr",
     "output_type": "stream",
     "text": [
      "/home/aind2/anaconda3/lib/python3.6/site-packages/sklearn/feature_extraction/text.py:1059: FutureWarning: Conversion of the second argument of issubdtype from `float` to `np.floating` is deprecated. In future, it will be treated as `np.float64 == np.dtype(float).type`.\n",
      "  if hasattr(X, 'dtype') and np.issubdtype(X.dtype, np.float):\n"
     ]
    }
   ],
   "source": [
    "t3 = time()\n",
    "\n",
    "dfConcatStrings_org = dfOrg.stringConcat_org\n",
    "dfConcatStrings_match = dfDup.stringConcat_match\n",
    "vectorizer = TfidfVectorizer(min_df=1, analyzer=ngrams)\n",
    "vectorizer.fit(df.stringConcat)\n",
    "tf_idf_matrix_org = vectorizer.transform(dfConcatStrings_org)\n",
    "tf_idf_matrix_match = vectorizer.transform(dfConcatStrings_match)\n",
    "\n",
    "matches = awesome_cossim_top(tf_idf_matrix_org, tf_idf_matrix_match.transpose(), 10, 0.1)"
   ]
  },
  {
   "cell_type": "code",
   "execution_count": 70,
   "metadata": {
    "collapsed": true
   },
   "outputs": [],
   "source": [
    "dfBlockedMatches = pd.DataFrame(np.column_stack(matches.nonzero()), columns = ['OriginalIndex', 'MatchIndex'])\n",
    "dfBlockedMatches['similarity'] = matches.data\n",
    "dfBlockedMatches = dfBlockedMatches.merge(dfOrg.reset_index(), left_on = 'OriginalIndex', right_index=True )\n",
    "dfBlockedMatches = dfBlockedMatches.merge(dfDup.reset_index(), left_on = 'MatchIndex', right_index=True )"
   ]
  },
  {
   "cell_type": "code",
   "execution_count": 71,
   "metadata": {
    "collapsed": false
   },
   "outputs": [
    {
     "name": "stdout",
     "output_type": "stream",
     "text": [
      "TF-IDF Blocking result shape: (29332, 60)\n",
      "TF-IDF Blocking time: 2.125580310821533\n",
      "TF-IDF Blocking true positives included: 5000\n"
     ]
    }
   ],
   "source": [
    "dfBlockedMatches.drop_duplicates(subset=['id_org', 'id_match'], inplace=True) \n",
    "dfBlockedMatches['MATCH'] = np.where(dfBlockedMatches[\n",
    "        'trueRecordID_match']==dfBlockedMatches['trueRecordID_org'], 1, 0)\n",
    "\n",
    "\n",
    "t4 = time()\n",
    "time_TFIDF_Blocking = t4-t3\n",
    "\n",
    "## How many of the 15,000 matches have we included in the dataset?\n",
    "truePos_TfIdf = sum(dfBlockedMatches.MATCH)\n",
    "\n",
    "\n",
    "print('TF-IDF Blocking result shape:', dfBlockedMatches.shape)\n",
    "print('TF-IDF Blocking time:',time_TFIDF_Blocking)\n",
    "print('TF-IDF Blocking true positives included:',truePos_TfIdf)"
   ]
  },
  {
   "cell_type": "code",
   "execution_count": 72,
   "metadata": {
    "collapsed": true
   },
   "outputs": [],
   "source": [
    "dfBlockedMatches['phone_dlev'] = dfBlockedMatches.apply(lambda x: jellyfish.damerau_levenshtein_distance\n",
    "                                                        (x['phone_org'], x['phone_match']), axis=1)\n",
    "dfBlockedMatches['last_name_dlev'] = dfBlockedMatches.apply(lambda x: jellyfish.damerau_levenshtein_distance\n",
    "                                                        (x['last_name_org'], x['last_name_match']), axis=1)\n",
    "dfBlockedMatches['first_name_dlev'] = dfBlockedMatches.apply(lambda x: jellyfish.damerau_levenshtein_distance\n",
    "                                                        (x['first_name_org'], x['first_name_match']), axis=1)\n",
    "dfBlockedMatches['city_dlev'] = dfBlockedMatches.apply(lambda x: jellyfish.damerau_levenshtein_distance\n",
    "                                                        (x['city_org'], x['city_match']), axis=1)\n",
    "dfBlockedMatches['state_dlev'] = dfBlockedMatches.apply(lambda x: jellyfish.damerau_levenshtein_distance\n",
    "                                                        (x['state_org'], x['state_match']), axis=1)\n",
    "dfBlockedMatches['address_1_dlev'] = dfBlockedMatches.apply(lambda x: jellyfish.damerau_levenshtein_distance\n",
    "                                                        (x['address_1_org'], x['address_1_match']), axis=1)\n",
    "dfBlockedMatches['address_1_2_dlev'] = dfBlockedMatches.apply(lambda x: jellyfish.damerau_levenshtein_distance\n",
    "                                                        (x['address_1_org'], x['address_2_match']), axis=1)\n",
    "dfBlockedMatches['dob_dlev'] = dfBlockedMatches.apply(lambda x: jellyfish.damerau_levenshtein_distance\n",
    "                                                        (x['dob_org'], x['dob_match']), axis=1)\n",
    "dfBlockedMatches['zip_dlev'] = dfBlockedMatches.apply(lambda x: jellyfish.damerau_levenshtein_distance\n",
    "                                                        (x['zip_org'], x['zip_match']), axis=1)"
   ]
  },
  {
   "cell_type": "code",
   "execution_count": 73,
   "metadata": {
    "collapsed": true
   },
   "outputs": [],
   "source": [
    "def scale_invert(x):\n",
    "    scaled = 1-(x/10)\n",
    "    return max(0, scaled)"
   ]
  },
  {
   "cell_type": "code",
   "execution_count": 74,
   "metadata": {
    "collapsed": true
   },
   "outputs": [],
   "source": [
    "dfBlockedMatches['phone_scaled'] = dfBlockedMatches['phone_dlev'].apply(scale_invert)\n",
    "dfBlockedMatches['last_name_scaled'] = dfBlockedMatches['last_name_dlev'].apply(scale_invert)\n",
    "dfBlockedMatches['first_name_scaled'] = dfBlockedMatches['first_name_dlev'].apply(scale_invert)\n",
    "dfBlockedMatches['city_scaled'] = dfBlockedMatches['city_dlev'].apply(scale_invert)\n",
    "dfBlockedMatches['state_scaled'] = dfBlockedMatches['state_dlev'].apply(scale_invert)\n",
    "dfBlockedMatches['address_1_scaled'] = dfBlockedMatches['address_1_dlev'].apply(scale_invert)\n",
    "dfBlockedMatches['address_1_2_scaled'] = dfBlockedMatches['address_1_2_dlev'].apply(scale_invert)\n",
    "dfBlockedMatches['dob_scaled'] = dfBlockedMatches['dob_dlev'].apply(scale_invert)\n",
    "dfBlockedMatches['zip_scaled'] = dfBlockedMatches['zip_dlev'].apply(scale_invert)"
   ]
  },
  {
   "cell_type": "code",
   "execution_count": 75,
   "metadata": {
    "collapsed": true
   },
   "outputs": [],
   "source": [
    "dfFeatures = dfBlockedMatches[[ 'id_org', 'id_match', 'MATCH',\n",
    "       'phone_scaled', 'last_name_scaled', 'first_name_scaled', 'city_scaled',\n",
    "       'state_scaled', 'address_1_scaled', 'address_1_2_scaled', 'dob_scaled',\n",
    "       'zip_scaled', 'similarity']]\n",
    "dfFeatures.to_csv('dfFeatures.csv')\n",
    "#dfFeatures.sample(n=10000).to_csv('dfFeatures_sample.csv')"
   ]
  },
  {
   "cell_type": "code",
   "execution_count": 76,
   "metadata": {
    "collapsed": true
   },
   "outputs": [],
   "source": [
    "X = dfFeatures[['phone_scaled'\n",
    "                , 'last_name_scaled'\n",
    "                , 'first_name_scaled'\n",
    "                , 'city_scaled'\n",
    "                , 'address_1_scaled'\n",
    "                , 'dob_scaled'\n",
    "                , 'zip_scaled'\n",
    "                , 'similarity']]\n",
    "y = dfFeatures['MATCH'] "
   ]
  },
  {
   "cell_type": "code",
   "execution_count": 77,
   "metadata": {
    "collapsed": false
   },
   "outputs": [
    {
     "data": {
      "image/png": "[encoded data removed]",
      "text/plain": [
       "<matplotlib.figure.Figure at 0x7fe6bca4bef0>"
      ]
     },
     "metadata": {},
     "output_type": "display_data"
    }
   ],
   "source": [
    "best_ada = pickle.load(open('models/best_ada.pkl', 'rb'))\n",
    "preds = best_ada.predict(X)\n",
    "pretty_confusion(y, preds)"
   ]
  },
  {
   "cell_type": "code",
   "execution_count": 78,
   "metadata": {
    "collapsed": false
   },
   "outputs": [
    {
     "data": {
      "image/png": "[encoded data removed]",
      "text/plain": [
       "<matplotlib.figure.Figure at 0x7fe6bd134278>"
      ]
     },
     "metadata": {},
     "output_type": "display_data"
    }
   ],
   "source": [
    "ada = pickle.load(open('models/ada.pkl', 'rb'))\n",
    "preds = ada.predict(X)\n",
    "pretty_confusion(y, preds)"
   ]
  },
  {
   "cell_type": "code",
   "execution_count": 79,
   "metadata": {
    "collapsed": false
   },
   "outputs": [
    {
     "data": {
      "image/png": "[encoded data removed]",
      "text/plain": [
       "<matplotlib.figure.Figure at 0x7fe6bcb18128>"
      ]
     },
     "metadata": {},
     "output_type": "display_data"
    }
   ],
   "source": [
    "gnb = pickle.load(open('models/gnb.pkl', 'rb'))\n",
    "preds = gnb.predict(X)\n",
    "pretty_confusion(y, preds)"
   ]
  },
  {
   "cell_type": "code",
   "execution_count": 80,
   "metadata": {
    "collapsed": false
   },
   "outputs": [
    {
     "data": {
      "image/png": "[encoded data removed]",
      "text/plain": [
       "<matplotlib.figure.Figure at 0x7fe6bccc5630>"
      ]
     },
     "metadata": {},
     "output_type": "display_data"
    }
   ],
   "source": [
    "lr = pickle.load(open('models/lr.pkl', 'rb'))\n",
    "preds = lr.predict(X)\n",
    "pretty_confusion(y, preds)"
   ]
  },
  {
   "cell_type": "code",
   "execution_count": 81,
   "metadata": {
    "collapsed": false
   },
   "outputs": [
    {
     "data": {
      "text/plain": [
       "{'algorithm': 'SAMME.R',\n",
       " 'base_estimator': None,\n",
       " 'learning_rate': 1.0,\n",
       " 'n_estimators': 50,\n",
       " 'random_state': 42}"
      ]
     },
     "execution_count": 81,
     "metadata": {},
     "output_type": "execute_result"
    }
   ],
   "source": [
    "ada.get_params()"
   ]
  }
 ],
 "metadata": {
  "celltoolbar": "Raw Cell Format",
  "kernelspec": {
   "display_name": "Python 3",
   "language": "python",
   "name": "python3"
  },
  "language_info": {
   "codemirror_mode": {
    "name": "ipython",
    "version": 3
   },
   "file_extension": ".py",
   "mimetype": "text/x-python",
   "name": "python",
   "nbconvert_exporter": "python",
   "pygments_lexer": "ipython3",
   "version": "3.6.3"
  }
 },
 "nbformat": 4,
 "nbformat_minor": 1
}
