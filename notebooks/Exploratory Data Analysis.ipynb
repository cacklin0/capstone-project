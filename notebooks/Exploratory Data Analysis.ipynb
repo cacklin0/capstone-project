{
 "cells": [
  {
   "cell_type": "code",
   "execution_count": 1,
   "metadata": {
    "collapsed": true
   },
   "outputs": [],
   "source": [
    "import pandas as pd\n",
    "import numpy as np\n",
    "import jellyfish\n",
    "import matplotlib.pyplot as plt\n",
    "%matplotlib inline\n",
    "from time import time\n",
    "import seaborn as sns"
   ]
  },
  {
   "cell_type": "markdown",
   "metadata": {},
   "source": [
    "# Data Exploration\n",
    "\n",
    "Raw data is loaded and explored.  A visual evaluation shows differences in spelling, missing characters, and missplaced spaces.  Addresses are noted to be in Australian states."
   ]
  },
  {
   "cell_type": "code",
   "execution_count": 2,
   "metadata": {
    "collapsed": false
   },
   "outputs": [
    {
     "data": {
      "text/html": [
       "<div>\n",
       "<table border=\"1\" class=\"dataframe\">\n",
       "  <thead>\n",
       "    <tr style=\"text-align: right;\">\n",
       "      <th></th>\n",
       "      <th>0</th>\n",
       "      <th>1</th>\n",
       "      <th>2</th>\n",
       "    </tr>\n",
       "  </thead>\n",
       "  <tbody>\n",
       "    <tr>\n",
       "      <th>id</th>\n",
       "      <td>rec-0-dup-0</td>\n",
       "      <td>rec-0-dup-1</td>\n",
       "      <td>rec-0-org</td>\n",
       "    </tr>\n",
       "    <tr>\n",
       "      <th>nationality</th>\n",
       "      <td></td>\n",
       "      <td></td>\n",
       "      <td></td>\n",
       "    </tr>\n",
       "    <tr>\n",
       "      <th>gender</th>\n",
       "      <td>f</td>\n",
       "      <td>f</td>\n",
       "      <td>f</td>\n",
       "    </tr>\n",
       "    <tr>\n",
       "      <th>age</th>\n",
       "      <td>28</td>\n",
       "      <td>2</td>\n",
       "      <td>28</td>\n",
       "    </tr>\n",
       "    <tr>\n",
       "      <th>dob</th>\n",
       "      <td>19901218</td>\n",
       "      <td>19901218</td>\n",
       "      <td>19901218</td>\n",
       "    </tr>\n",
       "    <tr>\n",
       "      <th>title</th>\n",
       "      <td></td>\n",
       "      <td></td>\n",
       "      <td></td>\n",
       "    </tr>\n",
       "    <tr>\n",
       "      <th>first_name</th>\n",
       "      <td>caitlin</td>\n",
       "      <td>cait in</td>\n",
       "      <td>caitlin</td>\n",
       "    </tr>\n",
       "    <tr>\n",
       "      <th>last_name</th>\n",
       "      <td>chappel</td>\n",
       "      <td>chap pl</td>\n",
       "      <td>chappel</td>\n",
       "    </tr>\n",
       "    <tr>\n",
       "      <th>state</th>\n",
       "      <td></td>\n",
       "      <td></td>\n",
       "      <td></td>\n",
       "    </tr>\n",
       "    <tr>\n",
       "      <th>city</th>\n",
       "      <td>pres</td>\n",
       "      <td>preston</td>\n",
       "      <td>preston</td>\n",
       "    </tr>\n",
       "    <tr>\n",
       "      <th>zip</th>\n",
       "      <td>4504</td>\n",
       "      <td>4504</td>\n",
       "      <td>4504</td>\n",
       "    </tr>\n",
       "    <tr>\n",
       "      <th>street_number</th>\n",
       "      <td></td>\n",
       "      <td></td>\n",
       "      <td></td>\n",
       "    </tr>\n",
       "    <tr>\n",
       "      <th>address_1</th>\n",
       "      <td>g'lbbes street</td>\n",
       "      <td>gibbess  reet</td>\n",
       "      <td>gibbes street</td>\n",
       "    </tr>\n",
       "    <tr>\n",
       "      <th>address_2</th>\n",
       "      <td></td>\n",
       "      <td></td>\n",
       "      <td></td>\n",
       "    </tr>\n",
       "    <tr>\n",
       "      <th>phone</th>\n",
       "      <td>087631 3909</td>\n",
       "      <td>087631 909</td>\n",
       "      <td>08 76313909</td>\n",
       "    </tr>\n",
       "    <tr>\n",
       "      <th>trueRecordID</th>\n",
       "      <td>0</td>\n",
       "      <td>0</td>\n",
       "      <td>0</td>\n",
       "    </tr>\n",
       "    <tr>\n",
       "      <th>OrgDup</th>\n",
       "      <td>dup</td>\n",
       "      <td>dup</td>\n",
       "      <td>org</td>\n",
       "    </tr>\n",
       "    <tr>\n",
       "      <th>seqNum</th>\n",
       "      <td>0</td>\n",
       "      <td>1</td>\n",
       "      <td></td>\n",
       "    </tr>\n",
       "  </tbody>\n",
       "</table>\n",
       "</div>"
      ],
      "text/plain": [
       "                             0               1               2\n",
       "id                 rec-0-dup-0     rec-0-dup-1       rec-0-org\n",
       "nationality                                                   \n",
       "gender                       f               f               f\n",
       "age                         28               2              28\n",
       "dob                   19901218        19901218        19901218\n",
       "title                                                         \n",
       "first_name             caitlin         cait in         caitlin\n",
       "last_name              chappel         chap pl         chappel\n",
       "state                                                         \n",
       "city                    pres           preston         preston\n",
       "zip                       4504            4504            4504\n",
       "street_number                                                 \n",
       "address_1       g'lbbes street   gibbess  reet   gibbes street\n",
       "address_2                                                     \n",
       "phone              087631 3909      087631 909     08 76313909\n",
       "trueRecordID                 0               0               0\n",
       "OrgDup                     dup             dup             org\n",
       "seqNum                       0               1                "
      ]
     },
     "execution_count": 2,
     "metadata": {},
     "output_type": "execute_result"
    }
   ],
   "source": [
    "col = ['id', 'nationality', 'gender', 'age', 'dob', 'title',\n",
    "       'first_name', 'last_name', 'state', 'city', 'zip',\n",
    "       'street_number', 'address_1', 'address_2', 'phone']\n",
    "df = pd.read_csv('FEBRL_sample_data.csv', encoding = 'latin1', names = col, header=0)\n",
    "df[['prefix','trueRecordID', 'OrgDup', 'seqNum']] = df.id.str.split('-', expand=True)\n",
    "df.drop('prefix', axis=1, inplace=True)\n",
    "df.fillna ('', inplace=True)\n",
    "df.head(3).transpose()"
   ]
  },
  {
   "cell_type": "code",
   "execution_count": 3,
   "metadata": {
    "collapsed": false
   },
   "outputs": [
    {
     "data": {
      "text/plain": [
       "org    30000\n",
       "dup    15000\n",
       "Name: OrgDup, dtype: int64"
      ]
     },
     "execution_count": 3,
     "metadata": {},
     "output_type": "execute_result"
    }
   ],
   "source": [
    "df.OrgDup.value_counts()"
   ]
  },
  {
   "cell_type": "code",
   "execution_count": 4,
   "metadata": {
    "collapsed": false,
    "scrolled": true
   },
   "outputs": [
    {
     "data": {
      "text/plain": [
       " nsw     12220\n",
       " vic      9065\n",
       " qld      6752\n",
       "          4721\n",
       " wa       3262\n",
       " sa       2767\n",
       " tas      1056\n",
       " act       498\n",
       " nt        239\n",
       " ns        200\n",
       " vi        176\n",
       " vik       171\n",
       " ns        142\n",
       " fic       135\n",
       " ql        135\n",
       " a         129\n",
       " w         116\n",
       " ns w      115\n",
       " nzw       105\n",
       " nstw       91\n",
       " vi c       87\n",
       " njw        86\n",
       " s          86\n",
       " n w        85\n",
       " kwld       82\n",
       " ql d       78\n",
       " kld        76\n",
       " qlt        68\n",
       " v c        54\n",
       " w a        53\n",
       "         ...  \n",
       " vld         1\n",
       " wrkk        1\n",
       " v:          1\n",
       " kqf         1\n",
       " vkxd        1\n",
       " snwf        1\n",
       " nssw        1\n",
       " msu         1\n",
       " qou         1\n",
       " qfs         1\n",
       " siw         1\n",
       " nqaa        1\n",
       " vkf         1\n",
       " lic         1\n",
       "nSw          1\n",
       " vxc         1\n",
       " wtj         1\n",
       " 4 l         1\n",
       " vei         1\n",
       " t 5         1\n",
       " nwn         1\n",
       " jc          1\n",
       " qI d        1\n",
       " zda         1\n",
       " wzq         1\n",
       " nsp         1\n",
       " xns         1\n",
       " nqh         1\n",
       " cws         1\n",
       "             1\n",
       "Name: state, dtype: int64"
      ]
     },
     "execution_count": 4,
     "metadata": {},
     "output_type": "execute_result"
    }
   ],
   "source": [
    "# A look at value counts by state indicates that these are Australian state abbreviations (with variations)\n",
    "df.state.value_counts()"
   ]
  },
  {
   "cell_type": "markdown",
   "metadata": {},
   "source": [
    "# Feature Exploration\n",
    "\n",
    "Loading the blocked and prepared data to explore"
   ]
  },
  {
   "cell_type": "code",
   "execution_count": 5,
   "metadata": {
    "collapsed": true
   },
   "outputs": [],
   "source": [
    "dfFeatures = pd.read_csv('dfFeatures.csv', index_col=0)"
   ]
  },
  {
   "cell_type": "code",
   "execution_count": 6,
   "metadata": {
    "collapsed": false
   },
   "outputs": [
    {
     "data": {
      "text/plain": [
       "0    160713\n",
       "1     14999\n",
       "Name: MATCH, dtype: int64"
      ]
     },
     "execution_count": 6,
     "metadata": {},
     "output_type": "execute_result"
    }
   ],
   "source": [
    "dfFeatures['MATCH'].value_counts()"
   ]
  },
  {
   "cell_type": "code",
   "execution_count": 7,
   "metadata": {
    "collapsed": false
   },
   "outputs": [
    {
     "data": {
      "text/html": [
       "<div>\n",
       "<table border=\"1\" class=\"dataframe\">\n",
       "  <thead>\n",
       "    <tr style=\"text-align: right;\">\n",
       "      <th></th>\n",
       "      <th>0</th>\n",
       "      <th>1</th>\n",
       "      <th>2</th>\n",
       "      <th>3</th>\n",
       "      <th>4</th>\n",
       "    </tr>\n",
       "  </thead>\n",
       "  <tbody>\n",
       "    <tr>\n",
       "      <th>id_org</th>\n",
       "      <td>rec-0-org</td>\n",
       "      <td>rec-0-org</td>\n",
       "      <td>rec-0-org</td>\n",
       "      <td>rec-0-org</td>\n",
       "      <td>rec-0-org</td>\n",
       "    </tr>\n",
       "    <tr>\n",
       "      <th>id_match</th>\n",
       "      <td>rec-0-dup-0</td>\n",
       "      <td>rec-0-dup-1</td>\n",
       "      <td>rec-4547-dup-0</td>\n",
       "      <td>rec-339-dup-1</td>\n",
       "      <td>rec-9649-dup-1</td>\n",
       "    </tr>\n",
       "    <tr>\n",
       "      <th>MATCH</th>\n",
       "      <td>1</td>\n",
       "      <td>1</td>\n",
       "      <td>0</td>\n",
       "      <td>0</td>\n",
       "      <td>0</td>\n",
       "    </tr>\n",
       "    <tr>\n",
       "      <th>phone_scaled</th>\n",
       "      <td>1</td>\n",
       "      <td>0.9</td>\n",
       "      <td>0.2</td>\n",
       "      <td>0</td>\n",
       "      <td>0.2</td>\n",
       "    </tr>\n",
       "    <tr>\n",
       "      <th>last_name_scaled</th>\n",
       "      <td>1</td>\n",
       "      <td>0.8</td>\n",
       "      <td>0.3</td>\n",
       "      <td>0.2</td>\n",
       "      <td>0.3</td>\n",
       "    </tr>\n",
       "    <tr>\n",
       "      <th>first_name_scaled</th>\n",
       "      <td>1</td>\n",
       "      <td>0.9</td>\n",
       "      <td>0.4</td>\n",
       "      <td>0.5</td>\n",
       "      <td>0.4</td>\n",
       "    </tr>\n",
       "    <tr>\n",
       "      <th>city_scaled</th>\n",
       "      <td>0.7</td>\n",
       "      <td>1</td>\n",
       "      <td>0</td>\n",
       "      <td>0.3</td>\n",
       "      <td>0</td>\n",
       "    </tr>\n",
       "    <tr>\n",
       "      <th>state_scaled</th>\n",
       "      <td>1</td>\n",
       "      <td>1</td>\n",
       "      <td>0.7</td>\n",
       "      <td>0.7</td>\n",
       "      <td>0.7</td>\n",
       "    </tr>\n",
       "    <tr>\n",
       "      <th>address_1_scaled</th>\n",
       "      <td>0.8</td>\n",
       "      <td>0.8</td>\n",
       "      <td>1</td>\n",
       "      <td>0</td>\n",
       "      <td>0.3</td>\n",
       "    </tr>\n",
       "    <tr>\n",
       "      <th>address_1_2_scaled</th>\n",
       "      <td>0</td>\n",
       "      <td>0</td>\n",
       "      <td>0</td>\n",
       "      <td>0</td>\n",
       "      <td>0</td>\n",
       "    </tr>\n",
       "    <tr>\n",
       "      <th>dob_scaled</th>\n",
       "      <td>1</td>\n",
       "      <td>1</td>\n",
       "      <td>0.4</td>\n",
       "      <td>0.6</td>\n",
       "      <td>0.4</td>\n",
       "    </tr>\n",
       "    <tr>\n",
       "      <th>zip_scaled</th>\n",
       "      <td>1</td>\n",
       "      <td>1</td>\n",
       "      <td>0.5</td>\n",
       "      <td>0.7</td>\n",
       "      <td>0.8</td>\n",
       "    </tr>\n",
       "    <tr>\n",
       "      <th>similarity</th>\n",
       "      <td>0.683051</td>\n",
       "      <td>0.652186</td>\n",
       "      <td>0.130793</td>\n",
       "      <td>0.109278</td>\n",
       "      <td>0.107823</td>\n",
       "    </tr>\n",
       "  </tbody>\n",
       "</table>\n",
       "</div>"
      ],
      "text/plain": [
       "                              0            1               2              3  \\\n",
       "id_org                rec-0-org    rec-0-org       rec-0-org      rec-0-org   \n",
       "id_match            rec-0-dup-0  rec-0-dup-1  rec-4547-dup-0  rec-339-dup-1   \n",
       "MATCH                         1            1               0              0   \n",
       "phone_scaled                  1          0.9             0.2              0   \n",
       "last_name_scaled              1          0.8             0.3            0.2   \n",
       "first_name_scaled             1          0.9             0.4            0.5   \n",
       "city_scaled                 0.7            1               0            0.3   \n",
       "state_scaled                  1            1             0.7            0.7   \n",
       "address_1_scaled            0.8          0.8               1              0   \n",
       "address_1_2_scaled            0            0               0              0   \n",
       "dob_scaled                    1            1             0.4            0.6   \n",
       "zip_scaled                    1            1             0.5            0.7   \n",
       "similarity             0.683051     0.652186        0.130793       0.109278   \n",
       "\n",
       "                                 4  \n",
       "id_org                   rec-0-org  \n",
       "id_match            rec-9649-dup-1  \n",
       "MATCH                            0  \n",
       "phone_scaled                   0.2  \n",
       "last_name_scaled               0.3  \n",
       "first_name_scaled              0.4  \n",
       "city_scaled                      0  \n",
       "state_scaled                   0.7  \n",
       "address_1_scaled               0.3  \n",
       "address_1_2_scaled               0  \n",
       "dob_scaled                     0.4  \n",
       "zip_scaled                     0.8  \n",
       "similarity                0.107823  "
      ]
     },
     "execution_count": 7,
     "metadata": {},
     "output_type": "execute_result"
    }
   ],
   "source": [
    "dfFeatures[ dfFeatures.id_org=='rec-0-org' ].head().transpose()"
   ]
  },
  {
   "cell_type": "markdown",
   "metadata": {},
   "source": [
    "## Correlation\n",
    "\n",
    "Pearson's Correlation indicates that the the similarity and phone_scaled features are strongly correlated, but neither are strictly preditive.  For example, records with a similarity score between 0.3 and 0.4 are almost equally split between matches and non-matches.  "
   ]
  },
  {
   "cell_type": "code",
   "execution_count": 8,
   "metadata": {
    "collapsed": false
   },
   "outputs": [
    {
     "data": {
      "image/png": "[encoded data removed]",
      "text/plain": [
       "<matplotlib.figure.Figure at 0x7ff91b409550>"
      ]
     },
     "metadata": {},
     "output_type": "display_data"
    }
   ],
   "source": [
    "plt.figure(figsize=(10,4))\n",
    "ax = dfFeatures.corr()['MATCH'].sort_values().drop('MATCH').plot('barh')\n",
    "plt.title('Pearson Correlation of Features to MATCH')\n",
    "for i in ax.patches:\n",
    "    ax.text(i.get_width()+.01, i.get_y()+.1, round(i.get_width(), 2), fontsize=12)"
   ]
  },
  {
   "cell_type": "code",
   "execution_count": 9,
   "metadata": {
    "collapsed": false
   },
   "outputs": [
    {
     "data": {
      "text/html": [
       "<div>\n",
       "<table border=\"1\" class=\"dataframe\">\n",
       "  <thead>\n",
       "    <tr style=\"text-align: right;\">\n",
       "      <th>MATCH</th>\n",
       "      <th>0</th>\n",
       "      <th>1</th>\n",
       "    </tr>\n",
       "    <tr>\n",
       "      <th>similarity</th>\n",
       "      <th></th>\n",
       "      <th></th>\n",
       "    </tr>\n",
       "  </thead>\n",
       "  <tbody>\n",
       "    <tr>\n",
       "      <th>(0.0991, 0.2]</th>\n",
       "      <td>150868.0</td>\n",
       "      <td>5.0</td>\n",
       "    </tr>\n",
       "    <tr>\n",
       "      <th>(0.2, 0.3]</th>\n",
       "      <td>9498.0</td>\n",
       "      <td>37.0</td>\n",
       "    </tr>\n",
       "    <tr>\n",
       "      <th>(0.3, 0.4]</th>\n",
       "      <td>333.0</td>\n",
       "      <td>316.0</td>\n",
       "    </tr>\n",
       "    <tr>\n",
       "      <th>(0.4, 0.5]</th>\n",
       "      <td>14.0</td>\n",
       "      <td>1458.0</td>\n",
       "    </tr>\n",
       "    <tr>\n",
       "      <th>(0.5, 0.6]</th>\n",
       "      <td>NaN</td>\n",
       "      <td>3215.0</td>\n",
       "    </tr>\n",
       "    <tr>\n",
       "      <th>(0.6, 0.7]</th>\n",
       "      <td>NaN</td>\n",
       "      <td>4235.0</td>\n",
       "    </tr>\n",
       "    <tr>\n",
       "      <th>(0.7, 0.8]</th>\n",
       "      <td>NaN</td>\n",
       "      <td>3540.0</td>\n",
       "    </tr>\n",
       "    <tr>\n",
       "      <th>(0.8, 0.9]</th>\n",
       "      <td>NaN</td>\n",
       "      <td>1775.0</td>\n",
       "    </tr>\n",
       "    <tr>\n",
       "      <th>(0.9, 1]</th>\n",
       "      <td>NaN</td>\n",
       "      <td>418.0</td>\n",
       "    </tr>\n",
       "  </tbody>\n",
       "</table>\n",
       "</div>"
      ],
      "text/plain": [
       "MATCH                 0       1\n",
       "similarity                     \n",
       "(0.0991, 0.2]  150868.0     5.0\n",
       "(0.2, 0.3]       9498.0    37.0\n",
       "(0.3, 0.4]        333.0   316.0\n",
       "(0.4, 0.5]         14.0  1458.0\n",
       "(0.5, 0.6]          NaN  3215.0\n",
       "(0.6, 0.7]          NaN  4235.0\n",
       "(0.7, 0.8]          NaN  3540.0\n",
       "(0.8, 0.9]          NaN  1775.0\n",
       "(0.9, 1]            NaN   418.0"
      ]
     },
     "execution_count": 9,
     "metadata": {},
     "output_type": "execute_result"
    }
   ],
   "source": [
    "pd.crosstab(dfFeatures.MATCH, pd.cut(dfFeatures.similarity, bins=9)\n",
    "            , values=dfFeatures.MATCH, aggfunc='count').transpose()"
   ]
  },
  {
   "cell_type": "code",
   "execution_count": 10,
   "metadata": {
    "collapsed": false,
    "scrolled": false
   },
   "outputs": [
    {
     "data": {
      "text/html": [
       "<div>\n",
       "<table border=\"1\" class=\"dataframe\">\n",
       "  <thead>\n",
       "    <tr style=\"text-align: right;\">\n",
       "      <th>MATCH</th>\n",
       "      <th>0</th>\n",
       "      <th>1</th>\n",
       "    </tr>\n",
       "    <tr>\n",
       "      <th>phone_scaled</th>\n",
       "      <th></th>\n",
       "      <th></th>\n",
       "    </tr>\n",
       "  </thead>\n",
       "  <tbody>\n",
       "    <tr>\n",
       "      <th>0.0</th>\n",
       "      <td>32385</td>\n",
       "      <td>167</td>\n",
       "    </tr>\n",
       "    <tr>\n",
       "      <th>0.1</th>\n",
       "      <td>43932</td>\n",
       "      <td>181</td>\n",
       "    </tr>\n",
       "    <tr>\n",
       "      <th>0.2</th>\n",
       "      <td>43490</td>\n",
       "      <td>158</td>\n",
       "    </tr>\n",
       "    <tr>\n",
       "      <th>0.3</th>\n",
       "      <td>26959</td>\n",
       "      <td>84</td>\n",
       "    </tr>\n",
       "    <tr>\n",
       "      <th>0.4</th>\n",
       "      <td>9705</td>\n",
       "      <td>26</td>\n",
       "    </tr>\n",
       "    <tr>\n",
       "      <th>0.5</th>\n",
       "      <td>2469</td>\n",
       "      <td>5</td>\n",
       "    </tr>\n",
       "    <tr>\n",
       "      <th>0.6</th>\n",
       "      <td>659</td>\n",
       "      <td>13</td>\n",
       "    </tr>\n",
       "    <tr>\n",
       "      <th>0.7</th>\n",
       "      <td>249</td>\n",
       "      <td>81</td>\n",
       "    </tr>\n",
       "    <tr>\n",
       "      <th>0.8</th>\n",
       "      <td>67</td>\n",
       "      <td>443</td>\n",
       "    </tr>\n",
       "    <tr>\n",
       "      <th>0.9</th>\n",
       "      <td>5</td>\n",
       "      <td>2044</td>\n",
       "    </tr>\n",
       "    <tr>\n",
       "      <th>1.0</th>\n",
       "      <td>793</td>\n",
       "      <td>11797</td>\n",
       "    </tr>\n",
       "  </tbody>\n",
       "</table>\n",
       "</div>"
      ],
      "text/plain": [
       "MATCH             0      1\n",
       "phone_scaled              \n",
       "0.0           32385    167\n",
       "0.1           43932    181\n",
       "0.2           43490    158\n",
       "0.3           26959     84\n",
       "0.4            9705     26\n",
       "0.5            2469      5\n",
       "0.6             659     13\n",
       "0.7             249     81\n",
       "0.8              67    443\n",
       "0.9               5   2044\n",
       "1.0             793  11797"
      ]
     },
     "execution_count": 10,
     "metadata": {},
     "output_type": "execute_result"
    }
   ],
   "source": [
    "pd.crosstab(dfFeatures.MATCH, dfFeatures.phone_scaled, values=dfFeatures.MATCH, aggfunc='count').transpose()"
   ]
  },
  {
   "cell_type": "code",
   "execution_count": 11,
   "metadata": {
    "collapsed": false
   },
   "outputs": [
    {
     "name": "stderr",
     "output_type": "stream",
     "text": [
      "/home/aind2/anaconda3/lib/python3.6/site-packages/numpy/core/fromnumeric.py:52: FutureWarning: reshape is deprecated and will raise in a subsequent release. Please use .values.reshape(...) instead\n",
      "  return getattr(obj, method)(*args, **kwds)\n"
     ]
    },
    {
     "data": {
      "text/plain": [
       "<matplotlib.figure.Figure at 0x7ff91b4a95f8>"
      ]
     },
     "metadata": {},
     "output_type": "display_data"
    },
    {
     "data": {
      "image/png": "[encoded data removed]",
      "text/plain": [
       "<matplotlib.figure.Figure at 0x7ff91b4a8fd0>"
      ]
     },
     "metadata": {},
     "output_type": "display_data"
    },
    {
     "data": {
      "image/png": "[encoded data removed]",
      "text/plain": [
       "<matplotlib.figure.Figure at 0x7ff91b4f6390>"
      ]
     },
     "metadata": {},
     "output_type": "display_data"
    },
    {
     "data": {
      "image/png": "[encoded data removed]",
      "text/plain": [
       "<matplotlib.figure.Figure at 0x7ff91b52d438>"
      ]
     },
     "metadata": {},
     "output_type": "display_data"
    },
    {
     "data": {
      "image/png": "[encoded data removed]",
      "text/plain": [
       "<matplotlib.figure.Figure at 0x7ff91b570470>"
      ]
     },
     "metadata": {},
     "output_type": "display_data"
    }
   ],
   "source": [
    "plt.figure();\n",
    "\n",
    "bp = dfFeatures[['MATCH', 'similarity']].boxplot(by='MATCH', vert=False, sym='k.')\n",
    "bp = dfFeatures[['MATCH', 'phone_scaled']].boxplot(by='MATCH', vert=False, sym='k.')\n",
    "bp = dfFeatures[['MATCH', 'last_name_scaled']].boxplot(by='MATCH', vert=False, sym='k.')\n",
    "bp = dfFeatures[['MATCH', 'dob_scaled']].boxplot(by='MATCH', vert=False, sym='k.')"
   ]
  },
  {
   "cell_type": "markdown",
   "metadata": {},
   "source": [
    "# Similarity Distributions\n",
    "\n",
    "The distribution is of matches is normal, whereas the distribution of non-matches is right-skewed.  The variance of matches is much higher than non-matches.  The tails are much fatter in matches than non-matches."
   ]
  },
  {
   "cell_type": "code",
   "execution_count": 12,
   "metadata": {
    "collapsed": false
   },
   "outputs": [
    {
     "name": "stderr",
     "output_type": "stream",
     "text": [
      "No handles with labels found to put in legend.\n"
     ]
    },
    {
     "data": {
      "text/plain": [
       "(0, 15000)"
      ]
     },
     "execution_count": 12,
     "metadata": {},
     "output_type": "execute_result"
    },
    {
     "data": {
      "image/png": "[encoded data removed]",
      "text/plain": [
       "<matplotlib.figure.Figure at 0x7ff91b47fd30>"
      ]
     },
     "metadata": {},
     "output_type": "display_data"
    }
   ],
   "source": [
    "match = dfFeatures['similarity'][dfFeatures.MATCH==1]\n",
    "non_match = dfFeatures['similarity'][dfFeatures.MATCH==0]\n",
    "\n",
    "fig, ax = plt.subplots()\n",
    "fig.set_figwidth (15)\n",
    "fig.legend()\n",
    "for a in [non_match, match]:\n",
    "    sns.distplot(a, ax=ax, kde=False)\n",
    "ax.set_xlim([0, 1])\n",
    "ax.set_ylim([0, 15000])"
   ]
  },
  {
   "cell_type": "code",
   "execution_count": 13,
   "metadata": {
    "collapsed": false
   },
   "outputs": [
    {
     "data": {
      "text/plain": [
       "count    14999.000000\n",
       "mean         0.657868\n",
       "std          0.131425\n",
       "min          0.150327\n",
       "25%          0.565597\n",
       "50%          0.657660\n",
       "75%          0.751592\n",
       "max          1.000000\n",
       "Name: similarity, dtype: float64"
      ]
     },
     "execution_count": 13,
     "metadata": {},
     "output_type": "execute_result"
    }
   ],
   "source": [
    "dfFeatures['similarity'][dfFeatures.MATCH==1].describe()"
   ]
  },
  {
   "cell_type": "code",
   "execution_count": 14,
   "metadata": {
    "collapsed": false
   },
   "outputs": [
    {
     "data": {
      "text/plain": [
       "count    160713.000000\n",
       "mean          0.139819\n",
       "std           0.034172\n",
       "min           0.100000\n",
       "25%           0.113897\n",
       "50%           0.131485\n",
       "75%           0.156643\n",
       "max           0.492734\n",
       "Name: similarity, dtype: float64"
      ]
     },
     "execution_count": 14,
     "metadata": {},
     "output_type": "execute_result"
    }
   ],
   "source": [
    "dfFeatures['similarity'][dfFeatures.MATCH==0].describe()"
   ]
  },
  {
   "cell_type": "code",
   "execution_count": 15,
   "metadata": {
    "collapsed": false
   },
   "outputs": [
    {
     "name": "stderr",
     "output_type": "stream",
     "text": [
      "/home/aind2/anaconda3/lib/python3.6/site-packages/seaborn/categorical.py:2171: UserWarning: The boxplot API has been changed. Attempting to adjust your arguments for the new API (which might not work). Please update your code. See the version 0.6 release notes for more info.\n",
      "  warnings.warn(msg, UserWarning)\n"
     ]
    },
    {
     "data": {
      "text/plain": [
       "<matplotlib.axes._subplots.AxesSubplot at 0x7ff91b666198>"
      ]
     },
     "execution_count": 15,
     "metadata": {},
     "output_type": "execute_result"
    },
    {
     "data": {
      "image/png": "[encoded data removed]",
      "text/plain": [
       "<matplotlib.figure.Figure at 0x7ff91b60f9e8>"
      ]
     },
     "metadata": {},
     "output_type": "display_data"
    }
   ],
   "source": [
    "fig, ax = plt.subplots(figsize=(15, 5))\n",
    "sns.boxplot( x=dfFeatures.MATCH, y=dfFeatures.similarity, vert=False, showmeans=True)"
   ]
  },
  {
   "cell_type": "code",
   "execution_count": null,
   "metadata": {
    "collapsed": true
   },
   "outputs": [],
   "source": []
  }
 ],
 "metadata": {
  "kernelspec": {
   "display_name": "Python 3",
   "language": "python",
   "name": "python3"
  },
  "language_info": {
   "codemirror_mode": {
    "name": "ipython",
    "version": 3
   },
   "file_extension": ".py",
   "mimetype": "text/x-python",
   "name": "python",
   "nbconvert_exporter": "python",
   "pygments_lexer": "ipython3",
   "version": "3.6.3"
  }
 },
 "nbformat": 4,
 "nbformat_minor": 2
}
